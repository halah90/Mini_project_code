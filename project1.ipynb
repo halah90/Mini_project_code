{
 "cells": [
  {
   "cell_type": "code",
   "execution_count": 35,
   "metadata": {},
   "outputs": [],
   "source": [
    "import pandas as pd\n",
    "import numpy as np\n",
    "from tpot import TPOTClassifier\n",
    "from sklearn.datasets import load_digits\n",
    "from tpot import TPOTRegressor\n",
    "from sklearn.datasets import load_boston\n",
    "from sklearn.ensemble import ExtraTreesRegressor\n",
    "from sklearn.pipeline import make_pipeline\n",
    "from sklearn.preprocessing import PolynomialFeatures\n",
    "from tpot.export_utils import set_param_recursive\n",
    "from sklearn.model_selection import train_test_split"
   ]
  },
  {
   "cell_type": "code",
   "execution_count": 36,
   "metadata": {},
   "outputs": [
    {
     "data": {
      "text/plain": [
       "Index(['Recency (months)', 'Frequency (times)', 'Monetary (c.c. blood)',\n",
       "       'Time (months)', 'whether he/she donated blood in March 2007'],\n",
       "      dtype='object')"
      ]
     },
     "execution_count": 36,
     "metadata": {},
     "output_type": "execute_result"
    }
   ],
   "source": [
    "nfl_data = pd.read_csv(\"C:/Users/Dll/Desktop/Technolabs/mini_project/transfusion.data\")\n",
    "np.random.seed(0)\n",
    "nfl_data.columns\n"
   ]
  },
  {
   "cell_type": "code",
   "execution_count": 37,
   "metadata": {},
   "outputs": [
    {
     "data": {
      "text/html": [
       "<div>\n",
       "<style scoped>\n",
       "    .dataframe tbody tr th:only-of-type {\n",
       "        vertical-align: middle;\n",
       "    }\n",
       "\n",
       "    .dataframe tbody tr th {\n",
       "        vertical-align: top;\n",
       "    }\n",
       "\n",
       "    .dataframe thead th {\n",
       "        text-align: right;\n",
       "    }\n",
       "</style>\n",
       "<table border=\"1\" class=\"dataframe\">\n",
       "  <thead>\n",
       "    <tr style=\"text-align: right;\">\n",
       "      <th></th>\n",
       "      <th>Recency (months)</th>\n",
       "      <th>Frequency (times)</th>\n",
       "      <th>Monetary (c.c. blood)</th>\n",
       "      <th>Time (months)</th>\n",
       "      <th>target</th>\n",
       "    </tr>\n",
       "  </thead>\n",
       "  <tbody>\n",
       "    <tr>\n",
       "      <th>0</th>\n",
       "      <td>2</td>\n",
       "      <td>50</td>\n",
       "      <td>12500</td>\n",
       "      <td>98</td>\n",
       "      <td>1</td>\n",
       "    </tr>\n",
       "    <tr>\n",
       "      <th>1</th>\n",
       "      <td>0</td>\n",
       "      <td>13</td>\n",
       "      <td>3250</td>\n",
       "      <td>28</td>\n",
       "      <td>1</td>\n",
       "    </tr>\n",
       "    <tr>\n",
       "      <th>2</th>\n",
       "      <td>1</td>\n",
       "      <td>16</td>\n",
       "      <td>4000</td>\n",
       "      <td>35</td>\n",
       "      <td>1</td>\n",
       "    </tr>\n",
       "    <tr>\n",
       "      <th>3</th>\n",
       "      <td>2</td>\n",
       "      <td>20</td>\n",
       "      <td>5000</td>\n",
       "      <td>45</td>\n",
       "      <td>1</td>\n",
       "    </tr>\n",
       "    <tr>\n",
       "      <th>4</th>\n",
       "      <td>1</td>\n",
       "      <td>24</td>\n",
       "      <td>6000</td>\n",
       "      <td>77</td>\n",
       "      <td>0</td>\n",
       "    </tr>\n",
       "  </tbody>\n",
       "</table>\n",
       "</div>"
      ],
      "text/plain": [
       "   Recency (months)  Frequency (times)  Monetary (c.c. blood)  Time (months)  \\\n",
       "0                 2                 50                  12500             98   \n",
       "1                 0                 13                   3250             28   \n",
       "2                 1                 16                   4000             35   \n",
       "3                 2                 20                   5000             45   \n",
       "4                 1                 24                   6000             77   \n",
       "\n",
       "   target  \n",
       "0       1  \n",
       "1       1  \n",
       "2       1  \n",
       "3       1  \n",
       "4       0  "
      ]
     },
     "execution_count": 37,
     "metadata": {},
     "output_type": "execute_result"
    }
   ],
   "source": [
    "nfl_data.rename(columns={'\"whether he/she donated blood in March 2007\"': 'target'})\n",
    "nfl_data.columns=['Recency (months)', 'Frequency (times)', 'Monetary (c.c. blood)',\n",
    "       'Time (months)', 'target']\n",
    "nfl_data.head()"
   ]
  },
  {
   "cell_type": "code",
   "execution_count": 38,
   "metadata": {},
   "outputs": [
    {
     "data": {
      "text/plain": [
       "0    570\n",
       "1    178\n",
       "Name: target, dtype: int64"
      ]
     },
     "execution_count": 38,
     "metadata": {},
     "output_type": "execute_result"
    }
   ],
   "source": [
    "count_target=nfl_data.target.value_counts()\n",
    "count_target"
   ]
  },
  {
   "cell_type": "code",
   "execution_count": 39,
   "metadata": {},
   "outputs": [
    {
     "name": "stdout",
     "output_type": "stream",
     "text": [
      "748\n"
     ]
    }
   ],
   "source": [
    "sum_target=count_target.sum(axis=0)\n",
    "print(sum_target)"
   ]
  },
  {
   "cell_type": "code",
   "execution_count": 40,
   "metadata": {},
   "outputs": [
    {
     "data": {
      "text/plain": [
       "0    76.203\n",
       "1    23.797\n",
       "Name: target, dtype: float64"
      ]
     },
     "execution_count": 40,
     "metadata": {},
     "output_type": "execute_result"
    }
   ],
   "source": [
    "count_target.map(lambda p: ((p/sum_target)*100).round(3))"
   ]
  },
  {
   "cell_type": "code",
   "execution_count": 41,
   "metadata": {},
   "outputs": [],
   "source": [
    "features = nfl_data.drop('target', axis=1)\n",
    "training_features, testing_features, training_target, testing_target = train_test_split(\n",
    "    features ,nfl_data['target'], test_size=0.25, random_state=4, stratify=nfl_data['target']\n",
    " )"
   ]
  },
  {
   "cell_type": "code",
   "execution_count": 48,
   "metadata": {},
   "outputs": [
    {
     "data": {
      "text/html": [
       "<div>\n",
       "<style scoped>\n",
       "    .dataframe tbody tr th:only-of-type {\n",
       "        vertical-align: middle;\n",
       "    }\n",
       "\n",
       "    .dataframe tbody tr th {\n",
       "        vertical-align: top;\n",
       "    }\n",
       "\n",
       "    .dataframe thead th {\n",
       "        text-align: right;\n",
       "    }\n",
       "</style>\n",
       "<table border=\"1\" class=\"dataframe\">\n",
       "  <thead>\n",
       "    <tr style=\"text-align: right;\">\n",
       "      <th></th>\n",
       "      <th>Recency (months)</th>\n",
       "      <th>Frequency (times)</th>\n",
       "      <th>Monetary (c.c. blood)</th>\n",
       "      <th>Time (months)</th>\n",
       "    </tr>\n",
       "  </thead>\n",
       "  <tbody>\n",
       "    <tr>\n",
       "      <th>452</th>\n",
       "      <td>23</td>\n",
       "      <td>2</td>\n",
       "      <td>500</td>\n",
       "      <td>28</td>\n",
       "    </tr>\n",
       "    <tr>\n",
       "      <th>418</th>\n",
       "      <td>16</td>\n",
       "      <td>1</td>\n",
       "      <td>250</td>\n",
       "      <td>16</td>\n",
       "    </tr>\n",
       "    <tr>\n",
       "      <th>122</th>\n",
       "      <td>2</td>\n",
       "      <td>6</td>\n",
       "      <td>1500</td>\n",
       "      <td>41</td>\n",
       "    </tr>\n",
       "    <tr>\n",
       "      <th>294</th>\n",
       "      <td>11</td>\n",
       "      <td>5</td>\n",
       "      <td>1250</td>\n",
       "      <td>35</td>\n",
       "    </tr>\n",
       "    <tr>\n",
       "      <th>444</th>\n",
       "      <td>23</td>\n",
       "      <td>12</td>\n",
       "      <td>3000</td>\n",
       "      <td>86</td>\n",
       "    </tr>\n",
       "  </tbody>\n",
       "</table>\n",
       "</div>"
      ],
      "text/plain": [
       "     Recency (months)  Frequency (times)  Monetary (c.c. blood)  Time (months)\n",
       "452                23                  2                    500             28\n",
       "418                16                  1                    250             16\n",
       "122                 2                  6                   1500             41\n",
       "294                11                  5                   1250             35\n",
       "444                23                 12                   3000             86"
      ]
     },
     "execution_count": 48,
     "metadata": {},
     "output_type": "execute_result"
    }
   ],
   "source": [
    "#zero_count_xtrain=training_features.target.value_counts()\n",
    "#zero_count_xtrain\n",
    "training_features.head()\n",
    "\n",
    "\n",
    "\n"
   ]
  },
  {
   "cell_type": "code",
   "execution_count": 47,
   "metadata": {},
   "outputs": [
    {
     "data": {
      "text/plain": [
       "452    0\n",
       "418    0\n",
       "122    1\n",
       "294    0\n",
       "444    0\n",
       "Name: target, dtype: int64"
      ]
     },
     "execution_count": 47,
     "metadata": {},
     "output_type": "execute_result"
    }
   ],
   "source": [
    "training_target.head()"
   ]
  },
  {
   "cell_type": "code",
   "execution_count": 44,
   "metadata": {},
   "outputs": [
    {
     "data": {
      "text/plain": [
       "array([1.05071429e-01, 2.41111111e-01, 1.41025641e-02, 5.00000000e-03,\n",
       "       4.02333333e-01, 7.35238095e-02, 9.99935065e-02, 3.34833333e-01,\n",
       "       2.13333333e-01, 0.00000000e+00, 8.65833333e-01, 2.92634921e-01,\n",
       "       1.69980159e-01, 4.02493506e-01, 1.38500000e-01, 2.25846154e-01,\n",
       "       1.13500000e-01, 8.72158009e-01, 7.36666667e-02, 1.89523810e-01,\n",
       "       2.20166667e-01, 8.92666667e-01, 0.00000000e+00, 3.04326840e-01,\n",
       "       6.75000000e-02, 9.74974747e-01, 0.00000000e+00, 1.65833333e-01,\n",
       "       4.64166667e-01, 2.25846154e-01, 4.57896825e-02, 6.33333333e-02,\n",
       "       2.25846154e-01, 6.41666667e-02, 6.78333333e-01, 5.75922078e-01,\n",
       "       7.00000000e-02, 1.09761905e-01, 2.25846154e-01, 4.98268398e-02,\n",
       "       6.69166667e-01, 1.62144160e-01, 1.62144160e-01, 6.08333333e-02,\n",
       "       5.45863636e-01, 2.25846154e-01, 5.90666667e-01, 1.99090909e-02,\n",
       "       9.09090909e-04, 0.00000000e+00, 5.16666667e-02, 1.76666667e-01,\n",
       "       1.16666667e-02, 2.25846154e-01, 9.99090909e-02, 1.41025641e-02,\n",
       "       9.99090909e-02, 1.33333333e-02, 4.28493506e-01, 0.00000000e+00,\n",
       "       5.10030303e-01, 9.38333333e-01, 1.62144160e-01, 3.29705128e-01,\n",
       "       0.00000000e+00, 4.28493506e-01, 6.66666667e-03, 5.86904762e-02,\n",
       "       0.00000000e+00, 1.62144160e-01, 4.91230159e-02, 8.95833333e-01,\n",
       "       5.00000000e-03, 4.95166667e-01, 1.62666667e-01, 0.00000000e+00,\n",
       "       1.62144160e-01, 2.80000000e-01, 4.85000000e-01, 6.89166667e-01,\n",
       "       6.53333333e-02, 4.27777778e-02, 8.92857143e-03, 5.00000000e-03,\n",
       "       4.84333333e-01, 2.25846154e-01, 2.45238095e-02, 2.77038961e-01,\n",
       "       3.37749288e-01, 7.66666667e-01, 3.33333333e-03, 3.04326840e-01,\n",
       "       1.62144160e-01, 2.20969697e-01, 0.00000000e+00, 2.75666667e-01,\n",
       "       5.83333333e-02, 5.66166667e-01, 1.71363636e-02, 0.00000000e+00,\n",
       "       0.00000000e+00, 1.05833333e-01, 3.45000000e-01, 3.20000000e-01,\n",
       "       2.05285714e-01, 1.41025641e-02, 2.25846154e-01, 3.27261905e-01,\n",
       "       1.62144160e-01, 1.09166667e-01, 1.62144160e-01, 5.10030303e-01,\n",
       "       1.41025641e-02, 5.16666667e-02, 9.20634921e-03, 5.18333333e-02,\n",
       "       0.00000000e+00, 4.50000000e-03, 1.00000000e-02, 9.83333333e-02,\n",
       "       1.06392857e-01, 0.00000000e+00, 6.75000000e-02, 3.37500000e-01,\n",
       "       2.25846154e-01, 3.04444444e-02, 9.99090909e-02, 7.57452381e-01,\n",
       "       9.09090909e-04, 0.00000000e+00, 4.95166667e-01, 3.27579365e-01,\n",
       "       5.75922078e-01, 3.72666667e-01, 0.00000000e+00, 7.25912698e-01,\n",
       "       7.33333333e-02, 3.33333333e-03, 3.50000000e-02, 9.16666667e-03,\n",
       "       0.00000000e+00, 2.39523810e-01, 6.82000000e-01, 2.61111111e-02,\n",
       "       0.00000000e+00, 2.25846154e-01, 1.09761905e-01, 1.18500000e-01,\n",
       "       3.97226190e-01, 7.41666667e-02, 1.20000000e-02, 8.81666667e-01,\n",
       "       4.19166667e-02, 4.50000000e-03, 3.39333333e-01, 6.66666667e-03,\n",
       "       5.80166667e-01, 7.83333333e-03, 7.34285714e-02, 1.41025641e-02,\n",
       "       3.83333333e-02, 7.69000000e-01, 0.00000000e+00, 1.25980159e-01,\n",
       "       4.14214286e-01, 1.16666667e-02, 0.00000000e+00, 6.02500000e-01,\n",
       "       1.30261905e-01, 4.85000000e-01, 7.39666667e-01, 2.58333333e-02,\n",
       "       1.33333333e-02, 1.01666667e-01, 9.50000000e-02, 4.02493506e-01,\n",
       "       1.29909091e-01, 1.33333333e-02, 5.86833333e-01, 4.85000000e-01,\n",
       "       8.05833333e-01, 9.99090909e-02, 5.57500000e-01, 1.36444444e-01,\n",
       "       5.14333333e-01, 7.69000000e-01, 1.46666667e-01])"
      ]
     },
     "execution_count": 44,
     "metadata": {},
     "output_type": "execute_result"
    }
   ],
   "source": [
    "\n",
    "exported_pipeline = make_pipeline(\n",
    "    PolynomialFeatures(degree=2, include_bias=False, interaction_only=False),\n",
    "    ExtraTreesRegressor(bootstrap=False, max_features=0.5, min_samples_leaf=2, min_samples_split=3, n_estimators=100)\n",
    ")\n",
    "# Fix random state for all the steps in exported pipeline\n",
    "set_param_recursive(exported_pipeline.steps, 'random_state', 42)\n",
    "\n",
    "exported_pipeline.fit(training_features, training_target)\n",
    "results = exported_pipeline.predict(testing_features)\n",
    "results"
   ]
  },
  {
   "cell_type": "code",
   "execution_count": null,
   "metadata": {},
   "outputs": [],
   "source": []
  }
 ],
 "metadata": {
  "kernelspec": {
   "display_name": "Python 3",
   "language": "python",
   "name": "python3"
  },
  "language_info": {
   "codemirror_mode": {
    "name": "ipython",
    "version": 3
   },
   "file_extension": ".py",
   "mimetype": "text/x-python",
   "name": "python",
   "nbconvert_exporter": "python",
   "pygments_lexer": "ipython3",
   "version": "3.8.3"
  }
 },
 "nbformat": 4,
 "nbformat_minor": 4
}
