{
 "cells": [
  {
   "cell_type": "code",
   "execution_count": 13,
   "metadata": {},
   "outputs": [],
   "source": [
    "import numpy as np\n",
    "import pandas as pd\n",
    "from sklearn.ensemble import ExtraTreesRegressor, RandomForestRegressor\n",
    "from sklearn.ensemble import RandomForestClassifier\n",
    "from sklearn.linear_model import ElasticNetCV\n",
    "from sklearn.model_selection import train_test_split\n",
    "from sklearn.pipeline import make_pipeline, make_union\n",
    "from tpot.builtins import StackingEstimator\n",
    "from tpot.export_utils import set_param_recursive\n",
    "from sklearn.linear_model import LogisticRegression"
   ]
  },
  {
   "cell_type": "code",
   "execution_count": 14,
   "metadata": {},
   "outputs": [],
   "source": [
    "#prepare data \n",
    "tpot_data = pd.read_csv(\"C:/Users/user/Desktop/halah_work/Technolabs/mini_project/transfusion.data\")\n",
    "tpot_data.columns=['Recency (months)', 'Frequency (times)', 'Monetary (c.c. blood)',\n",
    "       'Time (months)', 'target']\n"
   ]
  },
  {
   "cell_type": "code",
   "execution_count": 15,
   "metadata": {},
   "outputs": [
    {
     "name": "stdout",
     "output_type": "stream",
     "text": [
      "Recency (months)         65.535430\n",
      "Frequency (times)        34.097508\n",
      "Monetary (c.c. blood)     0.836348\n",
      "Time (months)             0.953827\n",
      "dtype: float64\n"
     ]
    }
   ],
   "source": [
    "features = tpot_data.drop('target', axis=1)\n",
    "features[\"Monetary (c.c. blood)\"]=np.log(features[\"Monetary (c.c. blood)\"])\n",
    "features[\"Time (months)\"]=np.log(features[\"Time (months)\"])\n",
    "training_features, testing_features, training_target, testing_target = train_test_split(\n",
    "    features ,tpot_data['target'], test_size=0.25, random_state=4, stratify=tpot_data['target']\n",
    " )\n",
    "print(features.var(axis=0))"
   ]
  },
  {
   "cell_type": "code",
   "execution_count": 16,
   "metadata": {},
   "outputs": [
    {
     "name": "stdout",
     "output_type": "stream",
     "text": [
      "0.8181818181818182\n"
     ]
    }
   ],
   "source": [
    "logReg = LogisticRegression(random_state=0)\n",
    "logReg.fit(training_features,training_target)\n",
    "predictions=logReg.predict(testing_features)\n",
    "scores=logReg.score(testing_features, testing_target)\n",
    "print(scores)\n"
   ]
  }
 ],
 "metadata": {
  "kernelspec": {
   "display_name": "Python 3",
   "language": "python",
   "name": "python3"
  },
  "language_info": {
   "codemirror_mode": {
    "name": "ipython",
    "version": 3
   },
   "file_extension": ".py",
   "mimetype": "text/x-python",
   "name": "python",
   "nbconvert_exporter": "python",
   "pygments_lexer": "ipython3",
   "version": "3.8.5"
  }
 },
 "nbformat": 4,
 "nbformat_minor": 4
}
